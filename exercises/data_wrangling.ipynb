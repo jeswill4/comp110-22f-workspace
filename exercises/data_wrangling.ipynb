{
 "cells": [
  {
   "cell_type": "code",
   "execution_count": null,
   "metadata": {},
   "outputs": [],
   "source": []
  }
 ],
 "metadata": {
  "kernelspec": {
   "display_name": "Python 3.10.8 64-bit (microsoft store)",
   "language": "python",
   "name": "python3"
  },
  "language_info": {
   "name": "python",
   "version": "3.10.8"
  },
  "orig_nbformat": 4,
  "vscode": {
   "interpreter": {
    "hash": "c9840a563cdf49589d8262237478c0ca86b9cd8ad241e5eaaa1f65d84e7032a0"
   }
  }
 },
 "nbformat": 4,
 "nbformat_minor": 2
}
